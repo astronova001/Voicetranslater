{
 "cells": [
  {
   "cell_type": "code",
   "execution_count": null,
   "metadata": {},
   "outputs": [],
   "source": [
    "import speech_recognition as sr\n",
    "# DEEPGRAM_API_KEY = 'e3203064b57f925dc3e136e80e0a6b8d57167c02'"
   ]
  },
  {
   "cell_type": "code",
   "execution_count": null,
   "metadata": {},
   "outputs": [],
   "source": []
  },
  {
   "cell_type": "code",
   "execution_count": null,
   "metadata": {},
   "outputs": [],
   "source": []
  },
  {
   "cell_type": "code",
   "execution_count": null,
   "metadata": {},
   "outputs": [],
   "source": []
  },
  {
   "cell_type": "code",
   "execution_count": null,
   "metadata": {},
   "outputs": [],
   "source": []
  },
  {
   "cell_type": "code",
   "execution_count": null,
   "metadata": {},
   "outputs": [],
   "source": []
  },
  {
   "cell_type": "code",
   "execution_count": null,
   "metadata": {},
   "outputs": [],
   "source": [
    "import speech_recognition as sr\n",
    "def record_audio(start_phrase, stop_phrase):\n",
    "\n",
    "# Create  a speech recognition object\n",
    "    r = sr.Recognizer()\n",
    "\n",
    "    # Create a microphone object\n",
    "    mic = sr.Microphone()\n",
    "\n",
    "    # Set the phrase to start recording\n",
    "    # Set the phrase to stop recording\n",
    "    sr.Microphone.pause_threshold =  0.8\n",
    "\n",
    "    # Start recording \n",
    "    with mic as source:\n",
    "        print(\"Speak '\", start_phrase, \"'  to   start recording\")\n",
    "        r.adjust_for_ambient_noise(source)\n",
    "        audio = r.listen(source, phrase_time_limit=5)\n",
    "\n",
    "        # Check if the phrase was said to start recording\n",
    "        if r.recognize_google(audio) == start_phrase:\n",
    "            print(\"Recording started\")\n",
    "\n",
    "            # Keep recording until the stop phrase is said or 20 seconds have passed\n",
    "            for i in range(20):\n",
    "                audio = r.listen(source )\n",
    "                if r.recognize_google(audio) == stop_phrase:\n",
    "                    print(\"Recording stopped\")\n",
    "                    break\n",
    "\n",
    "    # Return  the  recorded audio\n",
    "    return audio\n",
    "\n",
    "\n",
    "# Example usage\n",
    "start_phrase = \"start recording\"\n",
    "stop_phrase = \"stop recording\"\n",
    "audio = record_audio(start_phrase, stop_phrase)\n",
    "\n",
    "r = sr.Recognizer()\n",
    "\n",
    "#  Recognising the speech using Google Speech Recognition API\n",
    "try:\n",
    "    text = r.recognize_google(audio)\n",
    "    print(\"You said: {}\".format(text))\n",
    "except sr.RequestError:\n",
    "    print(\"API request failed\")\n",
    "except sr.UnknownValueError:\n",
    "    print(\"API   could not recognise the speech\")\n"
   ]
  },
  {
   "cell_type": "code",
   "execution_count": 25,
   "metadata": {},
   "outputs": [
    {
     "name": "stdout",
     "output_type": "stream",
     "text": [
      "You said: the still smell of old buildings it takes heat to bring out the order a cold storage file with him tacos Alpha store are my favourite is just for food is the hard cross bun\n",
      "Translation failed: 404 (Not Found) from TTS API. Probable cause: Unknown\n"
     ]
    }
   ],
   "source": [
    "import speech_recognition as sr\n",
    "from google_trans_new import google_translator\n",
    "import os\n",
    "file = 'F:\\\\Test_your_Program_here\\\\voice_assistant\\\\Voicetranslater\\\\sample audio files for speech recognition.wav'\n",
    "# Create a speech recognition object\n",
    "r = sr.Recognizer()\n",
    "sample = sr.AudioFile(file)\n",
    "#  Load the audio file\n",
    "with sample as source:\n",
    "    # Adjust for ambient noise\n",
    "    r.adjust_for_ambient_noise(source)\n",
    "\n",
    "    # Listen to the audio file\n",
    "    audio = r.listen(source)\n",
    "\n",
    "# Recognize the speech\n",
    "try :\n",
    "    text = r.recognize_google(audio)\n",
    "    print(\"You said: {}\".format(text))\n",
    "except sr.RequestError:\n",
    "    print(\"API request failed\")\n",
    "except sr.UnknownValueError:\n",
    "    print(\"API could not recognise the speech\")\n",
    "\n",
    "# Translate the speech\n",
    "translator = google_translator()\n",
    "try:\n",
    "    result = translator.translate(text, lang_tgt='hi')\n",
    "    print(result)    \n",
    "except Exception as e:\n",
    "    print(f\"Translation failed: {e}\")\n"
   ]
  },
  {
   "cell_type": "code",
   "execution_count": null,
   "metadata": {},
   "outputs": [],
   "source": [
    "import speech_recognition as sr\n",
    "from google_trans_new import google_translator\n",
    "translator = google_translator()\n",
    "translate_text = translator.translate('வணக்கம் உலகம்', lang_tgt='hi')\n",
    "print(translate_text)"
   ]
  },
  {
   "cell_type": "code",
   "execution_count": null,
   "metadata": {},
   "outputs": [],
   "source": [
    "#Working \n",
    "import speech_recognition as sr\n",
    "from googletrans import Translator\n",
    "\n",
    "r = sr.Recognizer()\n",
    "mic = sr.Microphone()\n",
    "translator = Translator()\n",
    "\n",
    "\n",
    "def record_audio():  \n",
    "    with mic as source:\n",
    "        print(\"Recording...\")       \n",
    "        r.adjust_for_ambient_noise(source)\n",
    "        audio = r.listen(source)\n",
    "        text = r.recognize_google(audio)\n",
    "        if text is None:\n",
    "            print(\"Could not recognize speech. Please try again.\")\n",
    "            return None\n",
    "        else:\n",
    "            return text \n",
    "def translate(text):\n",
    "    try:\n",
    "        result = translator.translate(text,dest='en')\n",
    "        return result  \n",
    "    except Exception as e:\n",
    "        print(f\"Translation failed: {e}\")\n",
    "def main():\n",
    "    try:\n",
    "        text = record_audio()\n",
    "        if text is not None:\n",
    "            print(\"You said: {}\".format(text)) \n",
    "    except sr .RequestError:\n",
    "        print(\"API request failed\")\n",
    "    except sr. UnknownValueError:\n",
    "        print(\"API could not recognise the speech\")\n",
    "\n",
    "    # Translate the speech\n",
    "    \n",
    "    try:\n",
    "        result = translate(text)\n",
    "        print(result.text)    \n",
    "    except Exception as e:\n",
    "        print(f\"Translation failed: {e}\")\n",
    "\n",
    "\n",
    "if __name__ == \"__main__\":\n",
    "    main()"
   ]
  }
 ],
 "metadata": {
  "kernelspec": {
   "display_name": "testenv",
   "language": "python",
   "name": "python3"
  },
  "language_info": {
   "codemirror_mode": {
    "name": "ipython",
    "version": 3
   },
   "file_extension": ".py",
   "mimetype": "text/x-python",
   "name": "python",
   "nbconvert_exporter": "python",
   "pygments_lexer": "ipython3",
   "version": "3.9.13"
  }
 },
 "nbformat": 4,
 "nbformat_minor": 2
}
